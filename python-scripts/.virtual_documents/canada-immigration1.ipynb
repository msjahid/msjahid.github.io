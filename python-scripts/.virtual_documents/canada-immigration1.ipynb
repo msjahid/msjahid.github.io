


title: Page Title
author: Page Author
date: "{{ datetime.now().strftime('%Y-%m-%d') }}"


%load_ext pretty_jupyter


# import packages
import pandas as pd


%%jmd

# First Section

This is our first section. We use so called **Jinja Markdown** here.
It allows us to combine Markdown with Python variables and makes
for a more dynamic report.

We can for example print pandas version such as this: {{ pd.__version__ }}.


# we create a simple dataframe for demonstration purposes
data = pd.DataFrame({"col1": [1, 2, 3, 4], "col2": ["cat1", "cat2", "cat1", "cat2"]})

data.head()


%%jmd

# Tabset Root
[//]: # (-.- .tabset .tabset-pills)

The content of this section will be shown as tabs. This will help us avoid potential scrolling and improve the HTML UI.

## First Tab
In the first tab, we can show some graphs or tables. We can output the table like this:

{{ data.head().to_html() }}

## Second Tab
In the second tab, we can do the same. Btw maths also works in the tabs.

## Not a Tabset
This section will not be tabbed because it has the same level (or higher) as the Tabset Root.



