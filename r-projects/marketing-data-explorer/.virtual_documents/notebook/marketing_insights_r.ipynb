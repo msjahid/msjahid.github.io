# Load required libraries
library(ggplot2)
library(rosepineTheme)
library(gridExtra)  # To arrange multiple plots
library(knitr)

library(showtext)
knitr::opts_chunk$set(echo = TRUE, warning = FALSE, message = FALSE)

# Add the font path
font_add("Source Code Pro", "/home/msjahid/fonts/SourceCodePro-Regular.otf")
# Enable showtext to render the font
showtext_auto()


# Load the CSV file
df <- read.csv("data/marketing_data.csv")


# Display the first few rows
head(df)


# Total number of rows
num_rows <- dim(df)[1]

# Total number of columns
num_columns <- dim(df)[2]

# Print the results
cat("Number of rows:", num_rows, "\n")
cat("Number of columns:", num_columns, "\n")


# Get column names
as.data.frame(colnames(df))


# Check the structure of the dataset
str(df)


# Get a statistical summary of numerical columns
summary(df)


as.data.frame(colSums(is.na(df)))


# Find duplicate rows
df[duplicated(df), ]


# Create histogram without groups
ggplot(df, aes(x = Age)) +
  geom_histogram(binwidth = 0.5, position = "dodge") +  # Fixed color
  labs(
    title = "Age Distribution",
    x = "Age",
    y = "Frequency"
  ) +
  theme_rose_pine() +
  scale_fill_rose_pine()


# Test Dataset
set.seed(42)
test_data <- data.frame(
  x = rnorm(100),
  y = rnorm(100),
  group = sample(letters[1:3], 100, replace = TRUE)
)


head(test_data)


# Count occurrences of unique values in the 'Gender' column
table(df$Gender)



