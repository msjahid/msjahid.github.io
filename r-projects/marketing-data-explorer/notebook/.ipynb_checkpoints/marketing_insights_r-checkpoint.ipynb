{
 "cells": [
  {
   "cell_type": "code",
   "execution_count": 1,
   "id": "84a5715f-0449-416f-aa8c-b08404afb2be",
   "metadata": {
    "scrolled": true
   },
   "outputs": [
    {
     "name": "stderr",
     "output_type": "stream",
     "text": [
      "Loading required package: sysfonts\n",
      "\n",
      "Loading required package: showtextdb\n",
      "\n"
     ]
    }
   ],
   "source": [
    "# Load required libraries\n",
    "library(ggplot2)\n",
    "library(rosepineTheme)\n",
    "library(gridExtra)  # To arrange multiple plots\n",
    "library(knitr)\n",
    "\n",
    "library(showtext)\n",
    "knitr::opts_chunk$set(echo = TRUE, warning = FALSE, message = FALSE)\n",
    "\n",
    "# Add the font path\n",
    "font_add(\"Source Code Pro\", \"/home/msjahid/fonts/SourceCodePro-Regular.otf\")\n",
    "# Enable showtext to render the font\n",
    "showtext_auto()"
   ]
  },
  {
   "cell_type": "code",
   "execution_count": 2,
   "id": "616ce779-fa04-4498-8b49-2abb194383ca",
   "metadata": {},
   "outputs": [],
   "source": [
    "# Load the CSV file\n",
    "df <- read.csv(\"data/marketing_data.csv\")"
   ]
  },
  {
   "cell_type": "code",
   "execution_count": 3,
   "id": "ceea6668-620c-4e8f-82ad-693a35ae006b",
   "metadata": {},
   "outputs": [
    {
     "data": {
      "text/html": [
       "<table class=\"dataframe\">\n",
       "<caption>A data.frame: 6 × 13</caption>\n",
       "<thead>\n",
       "\t<tr><th></th><th scope=col>Customer_ID</th><th scope=col>Gender</th><th scope=col>Date_Of_Birth</th><th scope=col>Location</th><th scope=col>Contact_Allowed</th><th scope=col>Registration_Date</th><th scope=col>Marketing_Channel_Type</th><th scope=col>First_Order_Profit</th><th scope=col>Subsequent_Order_Profit</th><th scope=col>Subsequent_Orders_Count</th><th scope=col>Total_value_of_all_promotions</th><th scope=col>Age</th><th scope=col>Total_Profit</th></tr>\n",
       "\t<tr><th></th><th scope=col>&lt;int&gt;</th><th scope=col>&lt;chr&gt;</th><th scope=col>&lt;chr&gt;</th><th scope=col>&lt;chr&gt;</th><th scope=col>&lt;chr&gt;</th><th scope=col>&lt;chr&gt;</th><th scope=col>&lt;chr&gt;</th><th scope=col>&lt;dbl&gt;</th><th scope=col>&lt;dbl&gt;</th><th scope=col>&lt;int&gt;</th><th scope=col>&lt;dbl&gt;</th><th scope=col>&lt;int&gt;</th><th scope=col>&lt;dbl&gt;</th></tr>\n",
       "</thead>\n",
       "<tbody>\n",
       "\t<tr><th scope=row>1</th><td>1</td><td>Male</td><td>6/29/1973 </td><td>Malahide</td><td>Y</td><td>1/1/2013 0:23</td><td>Organic Search</td><td> 8.97261</td><td> 5.30772</td><td>1</td><td> 6.600000</td><td>39</td><td>14.28033</td></tr>\n",
       "\t<tr><th scope=row>2</th><td>2</td><td>Male</td><td>7/25/1984 </td><td>Dublin  </td><td>Y</td><td>1/1/2013 0:30</td><td>Affiliates    </td><td> 7.92288</td><td>70.15680</td><td>7</td><td> 6.639453</td><td>28</td><td>78.07968</td></tr>\n",
       "\t<tr><th scope=row>3</th><td>3</td><td>Male</td><td>5/1/1991  </td><td>Dublin  </td><td>Y</td><td>1/1/2013 1:09</td><td>Paid Social   </td><td>14.06160</td><td>50.80320</td><td>7</td><td> 0.000000</td><td>21</td><td>64.86480</td></tr>\n",
       "\t<tr><th scope=row>4</th><td>4</td><td>Male</td><td>11/30/1986</td><td>Dublin  </td><td>N</td><td>1/1/2013 1:19</td><td>Affiliates    </td><td>14.07672</td><td> 0.00000</td><td>0</td><td> 0.000000</td><td>26</td><td>14.07672</td></tr>\n",
       "\t<tr><th scope=row>5</th><td>5</td><td>Male</td><td>10/2/1991 </td><td>Limerick</td><td>Y</td><td>1/1/2013 1:58</td><td>Paid Search   </td><td>22.68000</td><td>68.22144</td><td>9</td><td>14.771948</td><td>21</td><td>90.90144</td></tr>\n",
       "\t<tr><th scope=row>6</th><td>6</td><td>Male</td><td>5/3/1986  </td><td>Dublin  </td><td>N</td><td>1/1/2013 2:11</td><td>Direct        </td><td> 3.78000</td><td>34.11072</td><td>3</td><td> 1.598552</td><td>26</td><td>37.89072</td></tr>\n",
       "</tbody>\n",
       "</table>\n"
      ],
      "text/latex": [
       "A data.frame: 6 × 13\n",
       "\\begin{tabular}{r|lllllllllllll}\n",
       "  & Customer\\_ID & Gender & Date\\_Of\\_Birth & Location & Contact\\_Allowed & Registration\\_Date & Marketing\\_Channel\\_Type & First\\_Order\\_Profit & Subsequent\\_Order\\_Profit & Subsequent\\_Orders\\_Count & Total\\_value\\_of\\_all\\_promotions & Age & Total\\_Profit\\\\\n",
       "  & <int> & <chr> & <chr> & <chr> & <chr> & <chr> & <chr> & <dbl> & <dbl> & <int> & <dbl> & <int> & <dbl>\\\\\n",
       "\\hline\n",
       "\t1 & 1 & Male & 6/29/1973  & Malahide & Y & 1/1/2013 0:23 & Organic Search &  8.97261 &  5.30772 & 1 &  6.600000 & 39 & 14.28033\\\\\n",
       "\t2 & 2 & Male & 7/25/1984  & Dublin   & Y & 1/1/2013 0:30 & Affiliates     &  7.92288 & 70.15680 & 7 &  6.639453 & 28 & 78.07968\\\\\n",
       "\t3 & 3 & Male & 5/1/1991   & Dublin   & Y & 1/1/2013 1:09 & Paid Social    & 14.06160 & 50.80320 & 7 &  0.000000 & 21 & 64.86480\\\\\n",
       "\t4 & 4 & Male & 11/30/1986 & Dublin   & N & 1/1/2013 1:19 & Affiliates     & 14.07672 &  0.00000 & 0 &  0.000000 & 26 & 14.07672\\\\\n",
       "\t5 & 5 & Male & 10/2/1991  & Limerick & Y & 1/1/2013 1:58 & Paid Search    & 22.68000 & 68.22144 & 9 & 14.771948 & 21 & 90.90144\\\\\n",
       "\t6 & 6 & Male & 5/3/1986   & Dublin   & N & 1/1/2013 2:11 & Direct         &  3.78000 & 34.11072 & 3 &  1.598552 & 26 & 37.89072\\\\\n",
       "\\end{tabular}\n"
      ],
      "text/markdown": [
       "\n",
       "A data.frame: 6 × 13\n",
       "\n",
       "| <!--/--> | Customer_ID &lt;int&gt; | Gender &lt;chr&gt; | Date_Of_Birth &lt;chr&gt; | Location &lt;chr&gt; | Contact_Allowed &lt;chr&gt; | Registration_Date &lt;chr&gt; | Marketing_Channel_Type &lt;chr&gt; | First_Order_Profit &lt;dbl&gt; | Subsequent_Order_Profit &lt;dbl&gt; | Subsequent_Orders_Count &lt;int&gt; | Total_value_of_all_promotions &lt;dbl&gt; | Age &lt;int&gt; | Total_Profit &lt;dbl&gt; |\n",
       "|---|---|---|---|---|---|---|---|---|---|---|---|---|---|\n",
       "| 1 | 1 | Male | 6/29/1973  | Malahide | Y | 1/1/2013 0:23 | Organic Search |  8.97261 |  5.30772 | 1 |  6.600000 | 39 | 14.28033 |\n",
       "| 2 | 2 | Male | 7/25/1984  | Dublin   | Y | 1/1/2013 0:30 | Affiliates     |  7.92288 | 70.15680 | 7 |  6.639453 | 28 | 78.07968 |\n",
       "| 3 | 3 | Male | 5/1/1991   | Dublin   | Y | 1/1/2013 1:09 | Paid Social    | 14.06160 | 50.80320 | 7 |  0.000000 | 21 | 64.86480 |\n",
       "| 4 | 4 | Male | 11/30/1986 | Dublin   | N | 1/1/2013 1:19 | Affiliates     | 14.07672 |  0.00000 | 0 |  0.000000 | 26 | 14.07672 |\n",
       "| 5 | 5 | Male | 10/2/1991  | Limerick | Y | 1/1/2013 1:58 | Paid Search    | 22.68000 | 68.22144 | 9 | 14.771948 | 21 | 90.90144 |\n",
       "| 6 | 6 | Male | 5/3/1986   | Dublin   | N | 1/1/2013 2:11 | Direct         |  3.78000 | 34.11072 | 3 |  1.598552 | 26 | 37.89072 |\n",
       "\n"
      ],
      "text/plain": [
       "  Customer_ID Gender Date_Of_Birth Location Contact_Allowed Registration_Date\n",
       "1 1           Male   6/29/1973     Malahide Y               1/1/2013 0:23    \n",
       "2 2           Male   7/25/1984     Dublin   Y               1/1/2013 0:30    \n",
       "3 3           Male   5/1/1991      Dublin   Y               1/1/2013 1:09    \n",
       "4 4           Male   11/30/1986    Dublin   N               1/1/2013 1:19    \n",
       "5 5           Male   10/2/1991     Limerick Y               1/1/2013 1:58    \n",
       "6 6           Male   5/3/1986      Dublin   N               1/1/2013 2:11    \n",
       "  Marketing_Channel_Type First_Order_Profit Subsequent_Order_Profit\n",
       "1 Organic Search          8.97261            5.30772               \n",
       "2 Affiliates              7.92288           70.15680               \n",
       "3 Paid Social            14.06160           50.80320               \n",
       "4 Affiliates             14.07672            0.00000               \n",
       "5 Paid Search            22.68000           68.22144               \n",
       "6 Direct                  3.78000           34.11072               \n",
       "  Subsequent_Orders_Count Total_value_of_all_promotions Age Total_Profit\n",
       "1 1                        6.600000                     39  14.28033    \n",
       "2 7                        6.639453                     28  78.07968    \n",
       "3 7                        0.000000                     21  64.86480    \n",
       "4 0                        0.000000                     26  14.07672    \n",
       "5 9                       14.771948                     21  90.90144    \n",
       "6 3                        1.598552                     26  37.89072    "
      ]
     },
     "metadata": {},
     "output_type": "display_data"
    }
   ],
   "source": [
    "# Display the first few rows\n",
    "head(df)"
   ]
  },
  {
   "cell_type": "code",
   "execution_count": 4,
   "id": "3d93e081-518c-4eee-bb4d-fd4453b7d3c9",
   "metadata": {},
   "outputs": [
    {
     "name": "stdout",
     "output_type": "stream",
     "text": [
      "Number of rows: 30591 \n",
      "Number of columns: 13 \n"
     ]
    }
   ],
   "source": [
    "# Total number of rows\n",
    "num_rows <- dim(df)[1]\n",
    "\n",
    "# Total number of columns\n",
    "num_columns <- dim(df)[2]\n",
    "\n",
    "# Print the results\n",
    "cat(\"Number of rows:\", num_rows, \"\\n\")\n",
    "cat(\"Number of columns:\", num_columns, \"\\n\")"
   ]
  },
  {
   "cell_type": "code",
   "execution_count": 5,
   "id": "88989581-cdaf-409d-a0be-f5e18a19a4da",
   "metadata": {},
   "outputs": [
    {
     "data": {
      "text/html": [
       "<table class=\"dataframe\">\n",
       "<caption>A data.frame: 13 × 1</caption>\n",
       "<thead>\n",
       "\t<tr><th scope=col>colnames(df)</th></tr>\n",
       "\t<tr><th scope=col>&lt;chr&gt;</th></tr>\n",
       "</thead>\n",
       "<tbody>\n",
       "\t<tr><td>Customer_ID                  </td></tr>\n",
       "\t<tr><td>Gender                       </td></tr>\n",
       "\t<tr><td>Date_Of_Birth                </td></tr>\n",
       "\t<tr><td>Location                     </td></tr>\n",
       "\t<tr><td>Contact_Allowed              </td></tr>\n",
       "\t<tr><td>Registration_Date            </td></tr>\n",
       "\t<tr><td>Marketing_Channel_Type       </td></tr>\n",
       "\t<tr><td>First_Order_Profit           </td></tr>\n",
       "\t<tr><td>Subsequent_Order_Profit      </td></tr>\n",
       "\t<tr><td>Subsequent_Orders_Count      </td></tr>\n",
       "\t<tr><td>Total_value_of_all_promotions</td></tr>\n",
       "\t<tr><td>Age                          </td></tr>\n",
       "\t<tr><td>Total_Profit                 </td></tr>\n",
       "</tbody>\n",
       "</table>\n"
      ],
      "text/latex": [
       "A data.frame: 13 × 1\n",
       "\\begin{tabular}{l}\n",
       " colnames(df)\\\\\n",
       " <chr>\\\\\n",
       "\\hline\n",
       "\t Customer\\_ID                  \\\\\n",
       "\t Gender                       \\\\\n",
       "\t Date\\_Of\\_Birth                \\\\\n",
       "\t Location                     \\\\\n",
       "\t Contact\\_Allowed              \\\\\n",
       "\t Registration\\_Date            \\\\\n",
       "\t Marketing\\_Channel\\_Type       \\\\\n",
       "\t First\\_Order\\_Profit           \\\\\n",
       "\t Subsequent\\_Order\\_Profit      \\\\\n",
       "\t Subsequent\\_Orders\\_Count      \\\\\n",
       "\t Total\\_value\\_of\\_all\\_promotions\\\\\n",
       "\t Age                          \\\\\n",
       "\t Total\\_Profit                 \\\\\n",
       "\\end{tabular}\n"
      ],
      "text/markdown": [
       "\n",
       "A data.frame: 13 × 1\n",
       "\n",
       "| colnames(df) &lt;chr&gt; |\n",
       "|---|\n",
       "| Customer_ID                   |\n",
       "| Gender                        |\n",
       "| Date_Of_Birth                 |\n",
       "| Location                      |\n",
       "| Contact_Allowed               |\n",
       "| Registration_Date             |\n",
       "| Marketing_Channel_Type        |\n",
       "| First_Order_Profit            |\n",
       "| Subsequent_Order_Profit       |\n",
       "| Subsequent_Orders_Count       |\n",
       "| Total_value_of_all_promotions |\n",
       "| Age                           |\n",
       "| Total_Profit                  |\n",
       "\n"
      ],
      "text/plain": [
       "   colnames(df)                 \n",
       "1  Customer_ID                  \n",
       "2  Gender                       \n",
       "3  Date_Of_Birth                \n",
       "4  Location                     \n",
       "5  Contact_Allowed              \n",
       "6  Registration_Date            \n",
       "7  Marketing_Channel_Type       \n",
       "8  First_Order_Profit           \n",
       "9  Subsequent_Order_Profit      \n",
       "10 Subsequent_Orders_Count      \n",
       "11 Total_value_of_all_promotions\n",
       "12 Age                          \n",
       "13 Total_Profit                 "
      ]
     },
     "metadata": {},
     "output_type": "display_data"
    }
   ],
   "source": [
    "# Get column names\n",
    "as.data.frame(colnames(df))"
   ]
  },
  {
   "cell_type": "code",
   "execution_count": 6,
   "id": "ab833b1c-26d7-4eb5-8c88-2d16e633b7bc",
   "metadata": {},
   "outputs": [
    {
     "name": "stdout",
     "output_type": "stream",
     "text": [
      "'data.frame':\t30591 obs. of  13 variables:\n",
      " $ Customer_ID                  : int  1 2 3 4 5 6 7 8 9 10 ...\n",
      " $ Gender                       : chr  \"Male\" \"Male\" \"Male\" \"Male\" ...\n",
      " $ Date_Of_Birth                : chr  \"6/29/1973\" \"7/25/1984\" \"5/1/1991\" \"11/30/1986\" ...\n",
      " $ Location                     : chr  \"Malahide\" \"Dublin\" \"Dublin\" \"Dublin\" ...\n",
      " $ Contact_Allowed              : chr  \"Y\" \"Y\" \"Y\" \"N\" ...\n",
      " $ Registration_Date            : chr  \"1/1/2013 0:23\" \"1/1/2013 0:30\" \"1/1/2013 1:09\" \"1/1/2013 1:19\" ...\n",
      " $ Marketing_Channel_Type       : chr  \"Organic Search\" \"Affiliates\" \"Paid Social\" \"Affiliates\" ...\n",
      " $ First_Order_Profit           : num  8.97 7.92 14.06 14.08 22.68 ...\n",
      " $ Subsequent_Order_Profit      : num  5.31 70.16 50.8 0 68.22 ...\n",
      " $ Subsequent_Orders_Count      : int  1 7 7 0 9 3 0 8 5 1 ...\n",
      " $ Total_value_of_all_promotions: num  6.6 6.64 0 0 14.77 ...\n",
      " $ Age                          : int  39 28 21 26 21 26 40 36 47 23 ...\n",
      " $ Total_Profit                 : num  14.3 78.1 64.9 14.1 90.9 ...\n"
     ]
    }
   ],
   "source": [
    "# Check the structure of the dataset\n",
    "str(df)"
   ]
  },
  {
   "cell_type": "code",
   "execution_count": 7,
   "id": "7977c832-4628-43d2-9e69-0df52ec3de9a",
   "metadata": {},
   "outputs": [
    {
     "data": {
      "text/plain": [
       "  Customer_ID       Gender          Date_Of_Birth        Location        \n",
       " Min.   :    1   Length:30591       Length:30591       Length:30591      \n",
       " 1st Qu.: 7862   Class :character   Class :character   Class :character  \n",
       " Median :15722   Mode  :character   Mode  :character   Mode  :character  \n",
       " Mean   :15721                                                           \n",
       " 3rd Qu.:23582                                                           \n",
       " Max.   :31441                                                           \n",
       " Contact_Allowed    Registration_Date  Marketing_Channel_Type\n",
       " Length:30591       Length:30591       Length:30591          \n",
       " Class :character   Class :character   Class :character      \n",
       " Mode  :character   Mode  :character   Mode  :character      \n",
       "                                                             \n",
       "                                                             \n",
       "                                                             \n",
       " First_Order_Profit Subsequent_Order_Profit Subsequent_Orders_Count\n",
       " Min.   : 0.882     Min.   :  0.00          Min.   : 0.000         \n",
       " 1st Qu.: 5.127     1st Qu.:  0.00          1st Qu.: 0.000         \n",
       " Median : 9.576     Median : 21.38          Median : 3.000         \n",
       " Mean   :10.682     Mean   : 37.44          Mean   : 4.054         \n",
       " 3rd Qu.:14.828     3rd Qu.: 57.10          3rd Qu.: 7.000         \n",
       " Max.   :57.974     Max.   :412.66          Max.   :32.000         \n",
       " Total_value_of_all_promotions      Age        Total_Profit    \n",
       " Min.   : -0.04992             Min.   :19.0   Min.   :  0.882  \n",
       " 1st Qu.:  0.00000             1st Qu.:26.0   1st Qu.: 12.787  \n",
       " Median :  1.88520             Median :31.0   Median : 32.046  \n",
       " Mean   :  6.47948             Mean   :33.9   Mean   : 48.121  \n",
       " 3rd Qu.:  8.11833             3rd Qu.:40.0   3rd Qu.: 68.625  \n",
       " Max.   :145.26473             Max.   :96.0   Max.   :415.832  "
      ]
     },
     "metadata": {},
     "output_type": "display_data"
    }
   ],
   "source": [
    "# Get a statistical summary of numerical columns\n",
    "summary(df)"
   ]
  },
  {
   "cell_type": "code",
   "execution_count": 8,
   "id": "b90b4426-34b7-4a52-bc6b-4f42b94bb154",
   "metadata": {},
   "outputs": [
    {
     "data": {
      "text/html": [
       "<table class=\"dataframe\">\n",
       "<caption>A data.frame: 13 × 1</caption>\n",
       "<thead>\n",
       "\t<tr><th></th><th scope=col>colSums(is.na(df))</th></tr>\n",
       "\t<tr><th></th><th scope=col>&lt;dbl&gt;</th></tr>\n",
       "</thead>\n",
       "<tbody>\n",
       "\t<tr><th scope=row>Customer_ID</th><td>0</td></tr>\n",
       "\t<tr><th scope=row>Gender</th><td>0</td></tr>\n",
       "\t<tr><th scope=row>Date_Of_Birth</th><td>0</td></tr>\n",
       "\t<tr><th scope=row>Location</th><td>0</td></tr>\n",
       "\t<tr><th scope=row>Contact_Allowed</th><td>0</td></tr>\n",
       "\t<tr><th scope=row>Registration_Date</th><td>0</td></tr>\n",
       "\t<tr><th scope=row>Marketing_Channel_Type</th><td>0</td></tr>\n",
       "\t<tr><th scope=row>First_Order_Profit</th><td>0</td></tr>\n",
       "\t<tr><th scope=row>Subsequent_Order_Profit</th><td>0</td></tr>\n",
       "\t<tr><th scope=row>Subsequent_Orders_Count</th><td>0</td></tr>\n",
       "\t<tr><th scope=row>Total_value_of_all_promotions</th><td>0</td></tr>\n",
       "\t<tr><th scope=row>Age</th><td>0</td></tr>\n",
       "\t<tr><th scope=row>Total_Profit</th><td>0</td></tr>\n",
       "</tbody>\n",
       "</table>\n"
      ],
      "text/latex": [
       "A data.frame: 13 × 1\n",
       "\\begin{tabular}{r|l}\n",
       "  & colSums(is.na(df))\\\\\n",
       "  & <dbl>\\\\\n",
       "\\hline\n",
       "\tCustomer\\_ID & 0\\\\\n",
       "\tGender & 0\\\\\n",
       "\tDate\\_Of\\_Birth & 0\\\\\n",
       "\tLocation & 0\\\\\n",
       "\tContact\\_Allowed & 0\\\\\n",
       "\tRegistration\\_Date & 0\\\\\n",
       "\tMarketing\\_Channel\\_Type & 0\\\\\n",
       "\tFirst\\_Order\\_Profit & 0\\\\\n",
       "\tSubsequent\\_Order\\_Profit & 0\\\\\n",
       "\tSubsequent\\_Orders\\_Count & 0\\\\\n",
       "\tTotal\\_value\\_of\\_all\\_promotions & 0\\\\\n",
       "\tAge & 0\\\\\n",
       "\tTotal\\_Profit & 0\\\\\n",
       "\\end{tabular}\n"
      ],
      "text/markdown": [
       "\n",
       "A data.frame: 13 × 1\n",
       "\n",
       "| <!--/--> | colSums(is.na(df)) &lt;dbl&gt; |\n",
       "|---|---|\n",
       "| Customer_ID | 0 |\n",
       "| Gender | 0 |\n",
       "| Date_Of_Birth | 0 |\n",
       "| Location | 0 |\n",
       "| Contact_Allowed | 0 |\n",
       "| Registration_Date | 0 |\n",
       "| Marketing_Channel_Type | 0 |\n",
       "| First_Order_Profit | 0 |\n",
       "| Subsequent_Order_Profit | 0 |\n",
       "| Subsequent_Orders_Count | 0 |\n",
       "| Total_value_of_all_promotions | 0 |\n",
       "| Age | 0 |\n",
       "| Total_Profit | 0 |\n",
       "\n"
      ],
      "text/plain": [
       "                              colSums(is.na(df))\n",
       "Customer_ID                   0                 \n",
       "Gender                        0                 \n",
       "Date_Of_Birth                 0                 \n",
       "Location                      0                 \n",
       "Contact_Allowed               0                 \n",
       "Registration_Date             0                 \n",
       "Marketing_Channel_Type        0                 \n",
       "First_Order_Profit            0                 \n",
       "Subsequent_Order_Profit       0                 \n",
       "Subsequent_Orders_Count       0                 \n",
       "Total_value_of_all_promotions 0                 \n",
       "Age                           0                 \n",
       "Total_Profit                  0                 "
      ]
     },
     "metadata": {},
     "output_type": "display_data"
    }
   ],
   "source": [
    "as.data.frame(colSums(is.na(df)))"
   ]
  },
  {
   "cell_type": "code",
   "execution_count": 9,
   "id": "f3bc08d7-0d11-4523-80bd-11f154bfa5f6",
   "metadata": {},
   "outputs": [
    {
     "data": {
      "text/html": [
       "<table class=\"dataframe\">\n",
       "<caption>A data.frame: 0 × 13</caption>\n",
       "<thead>\n",
       "\t<tr><th scope=col>Customer_ID</th><th scope=col>Gender</th><th scope=col>Date_Of_Birth</th><th scope=col>Location</th><th scope=col>Contact_Allowed</th><th scope=col>Registration_Date</th><th scope=col>Marketing_Channel_Type</th><th scope=col>First_Order_Profit</th><th scope=col>Subsequent_Order_Profit</th><th scope=col>Subsequent_Orders_Count</th><th scope=col>Total_value_of_all_promotions</th><th scope=col>Age</th><th scope=col>Total_Profit</th></tr>\n",
       "\t<tr><th scope=col>&lt;int&gt;</th><th scope=col>&lt;chr&gt;</th><th scope=col>&lt;chr&gt;</th><th scope=col>&lt;chr&gt;</th><th scope=col>&lt;chr&gt;</th><th scope=col>&lt;chr&gt;</th><th scope=col>&lt;chr&gt;</th><th scope=col>&lt;dbl&gt;</th><th scope=col>&lt;dbl&gt;</th><th scope=col>&lt;int&gt;</th><th scope=col>&lt;dbl&gt;</th><th scope=col>&lt;int&gt;</th><th scope=col>&lt;dbl&gt;</th></tr>\n",
       "</thead>\n",
       "<tbody>\n",
       "</tbody>\n",
       "</table>\n"
      ],
      "text/latex": [
       "A data.frame: 0 × 13\n",
       "\\begin{tabular}{lllllllllllll}\n",
       " Customer\\_ID & Gender & Date\\_Of\\_Birth & Location & Contact\\_Allowed & Registration\\_Date & Marketing\\_Channel\\_Type & First\\_Order\\_Profit & Subsequent\\_Order\\_Profit & Subsequent\\_Orders\\_Count & Total\\_value\\_of\\_all\\_promotions & Age & Total\\_Profit\\\\\n",
       " <int> & <chr> & <chr> & <chr> & <chr> & <chr> & <chr> & <dbl> & <dbl> & <int> & <dbl> & <int> & <dbl>\\\\\n",
       "\\hline\n",
       "\\end{tabular}\n"
      ],
      "text/markdown": [
       "\n",
       "A data.frame: 0 × 13\n",
       "\n",
       "| Customer_ID &lt;int&gt; | Gender &lt;chr&gt; | Date_Of_Birth &lt;chr&gt; | Location &lt;chr&gt; | Contact_Allowed &lt;chr&gt; | Registration_Date &lt;chr&gt; | Marketing_Channel_Type &lt;chr&gt; | First_Order_Profit &lt;dbl&gt; | Subsequent_Order_Profit &lt;dbl&gt; | Subsequent_Orders_Count &lt;int&gt; | Total_value_of_all_promotions &lt;dbl&gt; | Age &lt;int&gt; | Total_Profit &lt;dbl&gt; |\n",
       "|---|---|---|---|---|---|---|---|---|---|---|---|---|\n",
       "\n"
      ],
      "text/plain": [
       "     Customer_ID Gender Date_Of_Birth Location Contact_Allowed\n",
       "     Registration_Date Marketing_Channel_Type First_Order_Profit\n",
       "     Subsequent_Order_Profit Subsequent_Orders_Count\n",
       "     Total_value_of_all_promotions Age Total_Profit"
      ]
     },
     "metadata": {},
     "output_type": "display_data"
    }
   ],
   "source": [
    "# Find duplicate rows\n",
    "df[duplicated(df), ]"
   ]
  },
  {
   "cell_type": "code",
   "execution_count": 10,
   "id": "8b083184-d8d8-4c6f-a73d-aa3a87914f06",
   "metadata": {},
   "outputs": [
    {
     "data": {
      "image/png": "[encoded data removed]",
      "text/plain": [
       "plot without title"
      ]
     },
     "metadata": {
      "image/png": {
       "height": 420,
       "width": 420
      }
     },
     "output_type": "display_data"
    }
   ],
   "source": [
    "# Create histogram without groups\n",
    "ggplot(df, aes(x = Age)) +\n",
    "  geom_histogram(binwidth = 0.5, position = \"dodge\") +  # Fixed color\n",
    "  labs(\n",
    "    title = \"Age Distribution\",\n",
    "    x = \"Age\",\n",
    "    y = \"Frequency\"\n",
    "  ) +\n",
    "  theme_rose_pine() +\n",
    "  scale_fill_rose_pine()"
   ]
  },
  {
   "cell_type": "code",
   "execution_count": 11,
   "id": "ea4de682-e9ec-4e4f-bed1-79fce4a3166d",
   "metadata": {},
   "outputs": [],
   "source": [
    "# Test Dataset\n",
    "set.seed(42)\n",
    "test_data <- data.frame(\n",
    "  x = rnorm(100),\n",
    "  y = rnorm(100),\n",
    "  group = sample(letters[1:3], 100, replace = TRUE)\n",
    ")"
   ]
  },
  {
   "cell_type": "code",
   "execution_count": 12,
   "id": "69cbc15b-6031-472a-805a-4275324c87db",
   "metadata": {},
   "outputs": [
    {
     "data": {
      "text/html": [
       "<table class=\"dataframe\">\n",
       "<caption>A data.frame: 6 × 3</caption>\n",
       "<thead>\n",
       "\t<tr><th></th><th scope=col>x</th><th scope=col>y</th><th scope=col>group</th></tr>\n",
       "\t<tr><th></th><th scope=col>&lt;dbl&gt;</th><th scope=col>&lt;dbl&gt;</th><th scope=col>&lt;chr&gt;</th></tr>\n",
       "</thead>\n",
       "<tbody>\n",
       "\t<tr><th scope=row>1</th><td> 1.3709584</td><td> 1.2009654</td><td>a</td></tr>\n",
       "\t<tr><th scope=row>2</th><td>-0.5646982</td><td> 1.0447511</td><td>b</td></tr>\n",
       "\t<tr><th scope=row>3</th><td> 0.3631284</td><td>-1.0032086</td><td>a</td></tr>\n",
       "\t<tr><th scope=row>4</th><td> 0.6328626</td><td> 1.8484819</td><td>c</td></tr>\n",
       "\t<tr><th scope=row>5</th><td> 0.4042683</td><td>-0.6667734</td><td>b</td></tr>\n",
       "\t<tr><th scope=row>6</th><td>-0.1061245</td><td> 0.1055138</td><td>a</td></tr>\n",
       "</tbody>\n",
       "</table>\n"
      ],
      "text/latex": [
       "A data.frame: 6 × 3\n",
       "\\begin{tabular}{r|lll}\n",
       "  & x & y & group\\\\\n",
       "  & <dbl> & <dbl> & <chr>\\\\\n",
       "\\hline\n",
       "\t1 &  1.3709584 &  1.2009654 & a\\\\\n",
       "\t2 & -0.5646982 &  1.0447511 & b\\\\\n",
       "\t3 &  0.3631284 & -1.0032086 & a\\\\\n",
       "\t4 &  0.6328626 &  1.8484819 & c\\\\\n",
       "\t5 &  0.4042683 & -0.6667734 & b\\\\\n",
       "\t6 & -0.1061245 &  0.1055138 & a\\\\\n",
       "\\end{tabular}\n"
      ],
      "text/markdown": [
       "\n",
       "A data.frame: 6 × 3\n",
       "\n",
       "| <!--/--> | x &lt;dbl&gt; | y &lt;dbl&gt; | group &lt;chr&gt; |\n",
       "|---|---|---|---|\n",
       "| 1 |  1.3709584 |  1.2009654 | a |\n",
       "| 2 | -0.5646982 |  1.0447511 | b |\n",
       "| 3 |  0.3631284 | -1.0032086 | a |\n",
       "| 4 |  0.6328626 |  1.8484819 | c |\n",
       "| 5 |  0.4042683 | -0.6667734 | b |\n",
       "| 6 | -0.1061245 |  0.1055138 | a |\n",
       "\n"
      ],
      "text/plain": [
       "  x          y          group\n",
       "1  1.3709584  1.2009654 a    \n",
       "2 -0.5646982  1.0447511 b    \n",
       "3  0.3631284 -1.0032086 a    \n",
       "4  0.6328626  1.8484819 c    \n",
       "5  0.4042683 -0.6667734 b    \n",
       "6 -0.1061245  0.1055138 a    "
      ]
     },
     "metadata": {},
     "output_type": "display_data"
    }
   ],
   "source": [
    "head(test_data)"
   ]
  },
  {
   "cell_type": "code",
   "execution_count": 15,
   "id": "ea5f1963-9c29-4476-9ab2-12655fa8e28b",
   "metadata": {},
   "outputs": [
    {
     "data": {
      "text/plain": [
       "\n",
       "     Female        Male Not Defined \n",
       "       7180       19436        3975 "
      ]
     },
     "metadata": {},
     "output_type": "display_data"
    }
   ],
   "source": [
    "# Count occurrences of unique values in the 'Gender' column\n",
    "table(df$Gender)"
   ]
  },
  {
   "cell_type": "code",
   "execution_count": null,
   "id": "53240d1d-ddec-468d-bc7c-81a7f02a8a6a",
   "metadata": {},
   "outputs": [],
   "source": []
  }
 ],
 "metadata": {
  "kernelspec": {
   "display_name": "R",
   "language": "R",
   "name": "ir"
  },
  "language_info": {
   "codemirror_mode": "r",
   "file_extension": ".r",
   "mimetype": "text/x-r-source",
   "name": "R",
   "pygments_lexer": "r",
   "version": "4.4.2"
  }
 },
 "nbformat": 4,
 "nbformat_minor": 5
}
